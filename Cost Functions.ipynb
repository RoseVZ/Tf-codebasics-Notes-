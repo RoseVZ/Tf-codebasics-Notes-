{
 "cells": [
  {
   "cell_type": "markdown",
   "id": "7d00fcd9",
   "metadata": {},
   "source": [
    "# Cost Functions"
   ]
  },
  {
   "cell_type": "code",
   "execution_count": 25,
   "id": "e9643a1e",
   "metadata": {},
   "outputs": [],
   "source": [
    "import numpy as np\n",
    "import math\n",
    "\n",
    "\n",
    "#two arrays\n",
    "y_actual=np.array([0,1,1,0])\n",
    "y_pred=np.array([1,0.99,0.88,0])"
   ]
  },
  {
   "cell_type": "markdown",
   "id": "d1b65f84",
   "metadata": {},
   "source": [
    "### 1. Mean Absolute Error"
   ]
  },
  {
   "cell_type": "code",
   "execution_count": 28,
   "id": "e1f1f13b",
   "metadata": {},
   "outputs": [],
   "source": [
    "def mae(y_actual,y_pred):\n",
    "    x=0\n",
    "    for ya, yp in zip(y_actual,y_pred):\n",
    "        error=abs(ya-yp)\n",
    "        print(error)\n",
    "        x=x+error\n",
    "    print(\"total error=\",x)\n",
    "    mae1=x/4\n",
    "    \n",
    "    return mae1\n",
    "\n",
    "#using numpy\n",
    "def mae2():\n",
    "    return(np.mean(np.abs(y_actual-y_pred)))"
   ]
  },
  {
   "cell_type": "code",
   "execution_count": 29,
   "id": "ee6f0982",
   "metadata": {},
   "outputs": [
    {
     "name": "stdout",
     "output_type": "stream",
     "text": [
      "1.0\n",
      "0.010000000000000009\n",
      "0.12\n",
      "0.0\n",
      "total error= 1.13\n"
     ]
    },
    {
     "data": {
      "text/plain": [
       "0.2825"
      ]
     },
     "execution_count": 29,
     "metadata": {},
     "output_type": "execute_result"
    }
   ],
   "source": [
    "mae(y_actual,y_pred)"
   ]
  },
  {
   "cell_type": "code",
   "execution_count": 30,
   "id": "39004d3e",
   "metadata": {},
   "outputs": [
    {
     "data": {
      "text/plain": [
       "0.2825"
      ]
     },
     "execution_count": 30,
     "metadata": {},
     "output_type": "execute_result"
    }
   ],
   "source": [
    "mae2()"
   ]
  },
  {
   "cell_type": "markdown",
   "id": "dd679989",
   "metadata": {},
   "source": [
    "### 2. Mean squared error"
   ]
  },
  {
   "cell_type": "code",
   "execution_count": 31,
   "id": "7c6561c0",
   "metadata": {},
   "outputs": [],
   "source": [
    "def mse():\n",
    "    return(np.mean(np.square(y_actual-y_pred)))"
   ]
  },
  {
   "cell_type": "code",
   "execution_count": 32,
   "id": "e783a157",
   "metadata": {},
   "outputs": [
    {
     "data": {
      "text/plain": [
       "0.253625"
      ]
     },
     "execution_count": 32,
     "metadata": {},
     "output_type": "execute_result"
    }
   ],
   "source": [
    "mse()"
   ]
  },
  {
   "cell_type": "markdown",
   "id": "4bf4825e",
   "metadata": {},
   "source": [
    "### 3. Binary Cross Entropy"
   ]
  },
  {
   "cell_type": "code",
   "execution_count": 33,
   "id": "4a0787c4",
   "metadata": {},
   "outputs": [],
   "source": [
    "epsilon = 1e-15"
   ]
  },
  {
   "cell_type": "code",
   "execution_count": 38,
   "id": "d5f072e2",
   "metadata": {},
   "outputs": [],
   "source": [
    "y_pred_new= [min(i,1-epsilon) for i in y_pred]\n",
    "y_pred_new=[max(i,epsilon) for i in y_pred_new]\n",
    "y_pred_new= np.array(y_pred_new)"
   ]
  },
  {
   "cell_type": "code",
   "execution_count": 39,
   "id": "3f147da7",
   "metadata": {},
   "outputs": [],
   "source": [
    "def bce():\n",
    "    return -np.mean(y_actual*np.log(y_pred_new)+(1-y_actual)*np.log(1-y_pred_new))\n",
    "    "
   ]
  },
  {
   "cell_type": "code",
   "execution_count": 40,
   "id": "4c3fde2e",
   "metadata": {},
   "outputs": [
    {
     "data": {
      "text/plain": [
       "8.669364924926066"
      ]
     },
     "execution_count": 40,
     "metadata": {},
     "output_type": "execute_result"
    }
   ],
   "source": [
    "bce()"
   ]
  }
 ],
 "metadata": {
  "kernelspec": {
   "display_name": "Python 3 (ipykernel)",
   "language": "python",
   "name": "python3"
  },
  "language_info": {
   "codemirror_mode": {
    "name": "ipython",
    "version": 3
   },
   "file_extension": ".py",
   "mimetype": "text/x-python",
   "name": "python",
   "nbconvert_exporter": "python",
   "pygments_lexer": "ipython3",
   "version": "3.8.13"
  }
 },
 "nbformat": 4,
 "nbformat_minor": 5
}
