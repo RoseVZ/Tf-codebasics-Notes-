{
 "cells": [
  {
   "cell_type": "markdown",
   "id": "bd098ba1",
   "metadata": {},
   "source": [
    "Activation Functions"
   ]
  },
  {
   "cell_type": "markdown",
   "id": "954cb985",
   "metadata": {},
   "source": [
    "1. Sigmoid Functions"
   ]
  },
  {
   "cell_type": "code",
   "execution_count": 1,
   "id": "cf0e66d8",
   "metadata": {},
   "outputs": [],
   "source": [
    "import math\n",
    "\n",
    "def sigmoid(x):\n",
    "    return 1/(1+math.exp(-x))"
   ]
  },
  {
   "cell_type": "code",
   "execution_count": 2,
   "id": "683f34a0",
   "metadata": {},
   "outputs": [
    {
     "data": {
      "text/plain": [
       "0.9933071490757153"
      ]
     },
     "execution_count": 2,
     "metadata": {},
     "output_type": "execute_result"
    }
   ],
   "source": [
    "sigmoid(5)"
   ]
  },
  {
   "cell_type": "markdown",
   "id": "170ed122",
   "metadata": {},
   "source": [
    "2. tan h Function"
   ]
  },
  {
   "cell_type": "code",
   "execution_count": 3,
   "id": "cb343753",
   "metadata": {},
   "outputs": [],
   "source": [
    "def tanh(x):\n",
    "    return (math.exp(x)-math.exp(-x))/(math.exp(x)+math.exp(-x))"
   ]
  },
  {
   "cell_type": "code",
   "execution_count": 4,
   "id": "ffdbe8de",
   "metadata": {},
   "outputs": [
    {
     "data": {
      "text/plain": [
       "0.9993292997390669"
      ]
     },
     "execution_count": 4,
     "metadata": {},
     "output_type": "execute_result"
    }
   ],
   "source": [
    "tanh(4)"
   ]
  },
  {
   "cell_type": "markdown",
   "id": "5c654daf",
   "metadata": {},
   "source": [
    "3. ReLU Function"
   ]
  },
  {
   "cell_type": "code",
   "execution_count": 5,
   "id": "878a6d89",
   "metadata": {},
   "outputs": [],
   "source": [
    "def Reluf(x):\n",
    "    return max(0,x)"
   ]
  },
  {
   "cell_type": "code",
   "execution_count": 7,
   "id": "cac150d0",
   "metadata": {},
   "outputs": [
    {
     "data": {
      "text/plain": [
       "0"
      ]
     },
     "execution_count": 7,
     "metadata": {},
     "output_type": "execute_result"
    }
   ],
   "source": [
    "Reluf(-3)"
   ]
  },
  {
   "cell_type": "markdown",
   "id": "a1a0bdb9",
   "metadata": {},
   "source": [
    "4. Leaky ReLu"
   ]
  },
  {
   "cell_type": "code",
   "execution_count": 9,
   "id": "becb250c",
   "metadata": {},
   "outputs": [],
   "source": [
    "def leak(x):\n",
    "    return max(0.1*x,x)"
   ]
  },
  {
   "cell_type": "code",
   "execution_count": 11,
   "id": "a14b2cff",
   "metadata": {},
   "outputs": [
    {
     "data": {
      "text/plain": [
       "-0.8"
      ]
     },
     "execution_count": 11,
     "metadata": {},
     "output_type": "execute_result"
    }
   ],
   "source": [
    "leak(-8)"
   ]
  }
 ],
 "metadata": {
  "kernelspec": {
   "display_name": "Python 3 (ipykernel)",
   "language": "python",
   "name": "python3"
  },
  "language_info": {
   "codemirror_mode": {
    "name": "ipython",
    "version": 3
   },
   "file_extension": ".py",
   "mimetype": "text/x-python",
   "name": "python",
   "nbconvert_exporter": "python",
   "pygments_lexer": "ipython3",
   "version": "3.8.13"
  }
 },
 "nbformat": 4,
 "nbformat_minor": 5
}
