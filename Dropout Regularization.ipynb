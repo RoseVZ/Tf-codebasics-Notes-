{
 "cells": [
  {
   "cell_type": "code",
   "execution_count": 2,
   "id": "f57502a6",
   "metadata": {},
   "outputs": [],
   "source": [
    "import tensorflow as tf\n",
    "from tensorflow import keras\n",
    "import matplotlib.pyplot as plt\n",
    "import pandas as pd\n",
    "import numpy as np\n",
    "%matplotlib inline"
   ]
  },
  {
   "cell_type": "code",
   "execution_count": 10,
   "id": "e7115729",
   "metadata": {},
   "outputs": [],
   "source": [
    "dataset=pd.read_csv('Datasets/sonar.csv',header=None)"
   ]
  },
  {
   "cell_type": "code",
   "execution_count": 11,
   "id": "14eeb5d9",
   "metadata": {},
   "outputs": [
    {
     "data": {
      "text/html": [
       "<div>\n",
       "<style scoped>\n",
       "    .dataframe tbody tr th:only-of-type {\n",
       "        vertical-align: middle;\n",
       "    }\n",
       "\n",
       "    .dataframe tbody tr th {\n",
       "        vertical-align: top;\n",
       "    }\n",
       "\n",
       "    .dataframe thead th {\n",
       "        text-align: right;\n",
       "    }\n",
       "</style>\n",
       "<table border=\"1\" class=\"dataframe\">\n",
       "  <thead>\n",
       "    <tr style=\"text-align: right;\">\n",
       "      <th></th>\n",
       "      <th>0</th>\n",
       "      <th>1</th>\n",
       "      <th>2</th>\n",
       "      <th>3</th>\n",
       "      <th>4</th>\n",
       "      <th>5</th>\n",
       "      <th>6</th>\n",
       "      <th>7</th>\n",
       "      <th>8</th>\n",
       "      <th>9</th>\n",
       "      <th>10</th>\n",
       "      <th>11</th>\n",
       "      <th>12</th>\n",
       "      <th>13</th>\n",
       "      <th>14</th>\n",
       "      <th>15</th>\n",
       "      <th>16</th>\n",
       "      <th>17</th>\n",
       "      <th>18</th>\n",
       "      <th>19</th>\n",
       "      <th>20</th>\n",
       "      <th>21</th>\n",
       "      <th>22</th>\n",
       "      <th>23</th>\n",
       "      <th>24</th>\n",
       "      <th>25</th>\n",
       "      <th>26</th>\n",
       "      <th>27</th>\n",
       "      <th>28</th>\n",
       "      <th>29</th>\n",
       "      <th>30</th>\n",
       "      <th>31</th>\n",
       "      <th>32</th>\n",
       "      <th>33</th>\n",
       "      <th>34</th>\n",
       "      <th>35</th>\n",
       "      <th>36</th>\n",
       "      <th>37</th>\n",
       "      <th>38</th>\n",
       "      <th>39</th>\n",
       "      <th>40</th>\n",
       "      <th>41</th>\n",
       "      <th>42</th>\n",
       "      <th>43</th>\n",
       "      <th>44</th>\n",
       "      <th>45</th>\n",
       "      <th>46</th>\n",
       "      <th>47</th>\n",
       "      <th>48</th>\n",
       "      <th>49</th>\n",
       "      <th>50</th>\n",
       "      <th>51</th>\n",
       "      <th>52</th>\n",
       "      <th>53</th>\n",
       "      <th>54</th>\n",
       "      <th>55</th>\n",
       "      <th>56</th>\n",
       "      <th>57</th>\n",
       "      <th>58</th>\n",
       "      <th>59</th>\n",
       "      <th>60</th>\n",
       "    </tr>\n",
       "  </thead>\n",
       "  <tbody>\n",
       "    <tr>\n",
       "      <th>0</th>\n",
       "      <td>0.0200</td>\n",
       "      <td>0.0371</td>\n",
       "      <td>0.0428</td>\n",
       "      <td>0.0207</td>\n",
       "      <td>0.0954</td>\n",
       "      <td>0.0986</td>\n",
       "      <td>0.1539</td>\n",
       "      <td>0.1601</td>\n",
       "      <td>0.3109</td>\n",
       "      <td>0.2111</td>\n",
       "      <td>0.1609</td>\n",
       "      <td>0.1582</td>\n",
       "      <td>0.2238</td>\n",
       "      <td>0.0645</td>\n",
       "      <td>0.0660</td>\n",
       "      <td>0.2273</td>\n",
       "      <td>0.3100</td>\n",
       "      <td>0.2999</td>\n",
       "      <td>0.5078</td>\n",
       "      <td>0.4797</td>\n",
       "      <td>0.5783</td>\n",
       "      <td>0.5071</td>\n",
       "      <td>0.4328</td>\n",
       "      <td>0.5550</td>\n",
       "      <td>0.6711</td>\n",
       "      <td>0.6415</td>\n",
       "      <td>0.7104</td>\n",
       "      <td>0.8080</td>\n",
       "      <td>0.6791</td>\n",
       "      <td>0.3857</td>\n",
       "      <td>0.1307</td>\n",
       "      <td>0.2604</td>\n",
       "      <td>0.5121</td>\n",
       "      <td>0.7547</td>\n",
       "      <td>0.8537</td>\n",
       "      <td>0.8507</td>\n",
       "      <td>0.6692</td>\n",
       "      <td>0.6097</td>\n",
       "      <td>0.4943</td>\n",
       "      <td>0.2744</td>\n",
       "      <td>0.0510</td>\n",
       "      <td>0.2834</td>\n",
       "      <td>0.2825</td>\n",
       "      <td>0.4256</td>\n",
       "      <td>0.2641</td>\n",
       "      <td>0.1386</td>\n",
       "      <td>0.1051</td>\n",
       "      <td>0.1343</td>\n",
       "      <td>0.0383</td>\n",
       "      <td>0.0324</td>\n",
       "      <td>0.0232</td>\n",
       "      <td>0.0027</td>\n",
       "      <td>0.0065</td>\n",
       "      <td>0.0159</td>\n",
       "      <td>0.0072</td>\n",
       "      <td>0.0167</td>\n",
       "      <td>0.0180</td>\n",
       "      <td>0.0084</td>\n",
       "      <td>0.0090</td>\n",
       "      <td>0.0032</td>\n",
       "      <td>R</td>\n",
       "    </tr>\n",
       "    <tr>\n",
       "      <th>1</th>\n",
       "      <td>0.0453</td>\n",
       "      <td>0.0523</td>\n",
       "      <td>0.0843</td>\n",
       "      <td>0.0689</td>\n",
       "      <td>0.1183</td>\n",
       "      <td>0.2583</td>\n",
       "      <td>0.2156</td>\n",
       "      <td>0.3481</td>\n",
       "      <td>0.3337</td>\n",
       "      <td>0.2872</td>\n",
       "      <td>0.4918</td>\n",
       "      <td>0.6552</td>\n",
       "      <td>0.6919</td>\n",
       "      <td>0.7797</td>\n",
       "      <td>0.7464</td>\n",
       "      <td>0.9444</td>\n",
       "      <td>1.0000</td>\n",
       "      <td>0.8874</td>\n",
       "      <td>0.8024</td>\n",
       "      <td>0.7818</td>\n",
       "      <td>0.5212</td>\n",
       "      <td>0.4052</td>\n",
       "      <td>0.3957</td>\n",
       "      <td>0.3914</td>\n",
       "      <td>0.3250</td>\n",
       "      <td>0.3200</td>\n",
       "      <td>0.3271</td>\n",
       "      <td>0.2767</td>\n",
       "      <td>0.4423</td>\n",
       "      <td>0.2028</td>\n",
       "      <td>0.3788</td>\n",
       "      <td>0.2947</td>\n",
       "      <td>0.1984</td>\n",
       "      <td>0.2341</td>\n",
       "      <td>0.1306</td>\n",
       "      <td>0.4182</td>\n",
       "      <td>0.3835</td>\n",
       "      <td>0.1057</td>\n",
       "      <td>0.1840</td>\n",
       "      <td>0.1970</td>\n",
       "      <td>0.1674</td>\n",
       "      <td>0.0583</td>\n",
       "      <td>0.1401</td>\n",
       "      <td>0.1628</td>\n",
       "      <td>0.0621</td>\n",
       "      <td>0.0203</td>\n",
       "      <td>0.0530</td>\n",
       "      <td>0.0742</td>\n",
       "      <td>0.0409</td>\n",
       "      <td>0.0061</td>\n",
       "      <td>0.0125</td>\n",
       "      <td>0.0084</td>\n",
       "      <td>0.0089</td>\n",
       "      <td>0.0048</td>\n",
       "      <td>0.0094</td>\n",
       "      <td>0.0191</td>\n",
       "      <td>0.0140</td>\n",
       "      <td>0.0049</td>\n",
       "      <td>0.0052</td>\n",
       "      <td>0.0044</td>\n",
       "      <td>R</td>\n",
       "    </tr>\n",
       "    <tr>\n",
       "      <th>2</th>\n",
       "      <td>0.0262</td>\n",
       "      <td>0.0582</td>\n",
       "      <td>0.1099</td>\n",
       "      <td>0.1083</td>\n",
       "      <td>0.0974</td>\n",
       "      <td>0.2280</td>\n",
       "      <td>0.2431</td>\n",
       "      <td>0.3771</td>\n",
       "      <td>0.5598</td>\n",
       "      <td>0.6194</td>\n",
       "      <td>0.6333</td>\n",
       "      <td>0.7060</td>\n",
       "      <td>0.5544</td>\n",
       "      <td>0.5320</td>\n",
       "      <td>0.6479</td>\n",
       "      <td>0.6931</td>\n",
       "      <td>0.6759</td>\n",
       "      <td>0.7551</td>\n",
       "      <td>0.8929</td>\n",
       "      <td>0.8619</td>\n",
       "      <td>0.7974</td>\n",
       "      <td>0.6737</td>\n",
       "      <td>0.4293</td>\n",
       "      <td>0.3648</td>\n",
       "      <td>0.5331</td>\n",
       "      <td>0.2413</td>\n",
       "      <td>0.5070</td>\n",
       "      <td>0.8533</td>\n",
       "      <td>0.6036</td>\n",
       "      <td>0.8514</td>\n",
       "      <td>0.8512</td>\n",
       "      <td>0.5045</td>\n",
       "      <td>0.1862</td>\n",
       "      <td>0.2709</td>\n",
       "      <td>0.4232</td>\n",
       "      <td>0.3043</td>\n",
       "      <td>0.6116</td>\n",
       "      <td>0.6756</td>\n",
       "      <td>0.5375</td>\n",
       "      <td>0.4719</td>\n",
       "      <td>0.4647</td>\n",
       "      <td>0.2587</td>\n",
       "      <td>0.2129</td>\n",
       "      <td>0.2222</td>\n",
       "      <td>0.2111</td>\n",
       "      <td>0.0176</td>\n",
       "      <td>0.1348</td>\n",
       "      <td>0.0744</td>\n",
       "      <td>0.0130</td>\n",
       "      <td>0.0106</td>\n",
       "      <td>0.0033</td>\n",
       "      <td>0.0232</td>\n",
       "      <td>0.0166</td>\n",
       "      <td>0.0095</td>\n",
       "      <td>0.0180</td>\n",
       "      <td>0.0244</td>\n",
       "      <td>0.0316</td>\n",
       "      <td>0.0164</td>\n",
       "      <td>0.0095</td>\n",
       "      <td>0.0078</td>\n",
       "      <td>R</td>\n",
       "    </tr>\n",
       "    <tr>\n",
       "      <th>3</th>\n",
       "      <td>0.0100</td>\n",
       "      <td>0.0171</td>\n",
       "      <td>0.0623</td>\n",
       "      <td>0.0205</td>\n",
       "      <td>0.0205</td>\n",
       "      <td>0.0368</td>\n",
       "      <td>0.1098</td>\n",
       "      <td>0.1276</td>\n",
       "      <td>0.0598</td>\n",
       "      <td>0.1264</td>\n",
       "      <td>0.0881</td>\n",
       "      <td>0.1992</td>\n",
       "      <td>0.0184</td>\n",
       "      <td>0.2261</td>\n",
       "      <td>0.1729</td>\n",
       "      <td>0.2131</td>\n",
       "      <td>0.0693</td>\n",
       "      <td>0.2281</td>\n",
       "      <td>0.4060</td>\n",
       "      <td>0.3973</td>\n",
       "      <td>0.2741</td>\n",
       "      <td>0.3690</td>\n",
       "      <td>0.5556</td>\n",
       "      <td>0.4846</td>\n",
       "      <td>0.3140</td>\n",
       "      <td>0.5334</td>\n",
       "      <td>0.5256</td>\n",
       "      <td>0.2520</td>\n",
       "      <td>0.2090</td>\n",
       "      <td>0.3559</td>\n",
       "      <td>0.6260</td>\n",
       "      <td>0.7340</td>\n",
       "      <td>0.6120</td>\n",
       "      <td>0.3497</td>\n",
       "      <td>0.3953</td>\n",
       "      <td>0.3012</td>\n",
       "      <td>0.5408</td>\n",
       "      <td>0.8814</td>\n",
       "      <td>0.9857</td>\n",
       "      <td>0.9167</td>\n",
       "      <td>0.6121</td>\n",
       "      <td>0.5006</td>\n",
       "      <td>0.3210</td>\n",
       "      <td>0.3202</td>\n",
       "      <td>0.4295</td>\n",
       "      <td>0.3654</td>\n",
       "      <td>0.2655</td>\n",
       "      <td>0.1576</td>\n",
       "      <td>0.0681</td>\n",
       "      <td>0.0294</td>\n",
       "      <td>0.0241</td>\n",
       "      <td>0.0121</td>\n",
       "      <td>0.0036</td>\n",
       "      <td>0.0150</td>\n",
       "      <td>0.0085</td>\n",
       "      <td>0.0073</td>\n",
       "      <td>0.0050</td>\n",
       "      <td>0.0044</td>\n",
       "      <td>0.0040</td>\n",
       "      <td>0.0117</td>\n",
       "      <td>R</td>\n",
       "    </tr>\n",
       "    <tr>\n",
       "      <th>4</th>\n",
       "      <td>0.0762</td>\n",
       "      <td>0.0666</td>\n",
       "      <td>0.0481</td>\n",
       "      <td>0.0394</td>\n",
       "      <td>0.0590</td>\n",
       "      <td>0.0649</td>\n",
       "      <td>0.1209</td>\n",
       "      <td>0.2467</td>\n",
       "      <td>0.3564</td>\n",
       "      <td>0.4459</td>\n",
       "      <td>0.4152</td>\n",
       "      <td>0.3952</td>\n",
       "      <td>0.4256</td>\n",
       "      <td>0.4135</td>\n",
       "      <td>0.4528</td>\n",
       "      <td>0.5326</td>\n",
       "      <td>0.7306</td>\n",
       "      <td>0.6193</td>\n",
       "      <td>0.2032</td>\n",
       "      <td>0.4636</td>\n",
       "      <td>0.4148</td>\n",
       "      <td>0.4292</td>\n",
       "      <td>0.5730</td>\n",
       "      <td>0.5399</td>\n",
       "      <td>0.3161</td>\n",
       "      <td>0.2285</td>\n",
       "      <td>0.6995</td>\n",
       "      <td>1.0000</td>\n",
       "      <td>0.7262</td>\n",
       "      <td>0.4724</td>\n",
       "      <td>0.5103</td>\n",
       "      <td>0.5459</td>\n",
       "      <td>0.2881</td>\n",
       "      <td>0.0981</td>\n",
       "      <td>0.1951</td>\n",
       "      <td>0.4181</td>\n",
       "      <td>0.4604</td>\n",
       "      <td>0.3217</td>\n",
       "      <td>0.2828</td>\n",
       "      <td>0.2430</td>\n",
       "      <td>0.1979</td>\n",
       "      <td>0.2444</td>\n",
       "      <td>0.1847</td>\n",
       "      <td>0.0841</td>\n",
       "      <td>0.0692</td>\n",
       "      <td>0.0528</td>\n",
       "      <td>0.0357</td>\n",
       "      <td>0.0085</td>\n",
       "      <td>0.0230</td>\n",
       "      <td>0.0046</td>\n",
       "      <td>0.0156</td>\n",
       "      <td>0.0031</td>\n",
       "      <td>0.0054</td>\n",
       "      <td>0.0105</td>\n",
       "      <td>0.0110</td>\n",
       "      <td>0.0015</td>\n",
       "      <td>0.0072</td>\n",
       "      <td>0.0048</td>\n",
       "      <td>0.0107</td>\n",
       "      <td>0.0094</td>\n",
       "      <td>R</td>\n",
       "    </tr>\n",
       "  </tbody>\n",
       "</table>\n",
       "</div>"
      ],
      "text/plain": [
       "       0       1       2       3       4   ...      56      57      58      59  60\n",
       "0  0.0200  0.0371  0.0428  0.0207  0.0954  ...  0.0180  0.0084  0.0090  0.0032   R\n",
       "1  0.0453  0.0523  0.0843  0.0689  0.1183  ...  0.0140  0.0049  0.0052  0.0044   R\n",
       "2  0.0262  0.0582  0.1099  0.1083  0.0974  ...  0.0316  0.0164  0.0095  0.0078   R\n",
       "3  0.0100  0.0171  0.0623  0.0205  0.0205  ...  0.0050  0.0044  0.0040  0.0117   R\n",
       "4  0.0762  0.0666  0.0481  0.0394  0.0590  ...  0.0072  0.0048  0.0107  0.0094   R\n",
       "\n",
       "[5 rows x 61 columns]"
      ]
     },
     "execution_count": 11,
     "metadata": {},
     "output_type": "execute_result"
    }
   ],
   "source": [
    "dataset.head()"
   ]
  },
  {
   "cell_type": "code",
   "execution_count": 13,
   "id": "4e14753b",
   "metadata": {},
   "outputs": [
    {
     "data": {
      "text/plain": [
       "(208, 61)"
      ]
     },
     "execution_count": 13,
     "metadata": {},
     "output_type": "execute_result"
    }
   ],
   "source": [
    "dataset.shape"
   ]
  },
  {
   "cell_type": "code",
   "execution_count": 14,
   "id": "10b1132d",
   "metadata": {},
   "outputs": [
    {
     "data": {
      "text/plain": [
       "0     0\n",
       "1     0\n",
       "2     0\n",
       "3     0\n",
       "4     0\n",
       "     ..\n",
       "56    0\n",
       "57    0\n",
       "58    0\n",
       "59    0\n",
       "60    0\n",
       "Length: 61, dtype: int64"
      ]
     },
     "execution_count": 14,
     "metadata": {},
     "output_type": "execute_result"
    }
   ],
   "source": [
    "#check null\n",
    "dataset.isna().sum()"
   ]
  },
  {
   "cell_type": "code",
   "execution_count": 15,
   "id": "13009986",
   "metadata": {},
   "outputs": [],
   "source": [
    "X= dataset.iloc[:,:-1].values\n",
    "y=dataset.iloc[:,-1].values"
   ]
  },
  {
   "cell_type": "code",
   "execution_count": 21,
   "id": "a2a76ed1",
   "metadata": {},
   "outputs": [
    {
     "data": {
      "text/plain": [
       "array([[0.02  , 0.0371, 0.0428, ..., 0.0084, 0.009 , 0.0032],\n",
       "       [0.0453, 0.0523, 0.0843, ..., 0.0049, 0.0052, 0.0044],\n",
       "       [0.0262, 0.0582, 0.1099, ..., 0.0164, 0.0095, 0.0078],\n",
       "       ...,\n",
       "       [0.0522, 0.0437, 0.018 , ..., 0.0138, 0.0077, 0.0031],\n",
       "       [0.0303, 0.0353, 0.049 , ..., 0.0079, 0.0036, 0.0048],\n",
       "       [0.026 , 0.0363, 0.0136, ..., 0.0036, 0.0061, 0.0115]])"
      ]
     },
     "execution_count": 21,
     "metadata": {},
     "output_type": "execute_result"
    }
   ],
   "source": [
    "X"
   ]
  },
  {
   "cell_type": "code",
   "execution_count": 20,
   "id": "5d628b9e",
   "metadata": {},
   "outputs": [
    {
     "data": {
      "text/plain": [
       "array(['R', 'R', 'R', 'R', 'R', 'R', 'R', 'R', 'R', 'R', 'R', 'R', 'R',\n",
       "       'R', 'R', 'R', 'R', 'R', 'R', 'R', 'R', 'R', 'R', 'R', 'R', 'R',\n",
       "       'R', 'R', 'R', 'R', 'R', 'R', 'R', 'R', 'R', 'R', 'R', 'R', 'R',\n",
       "       'R', 'R', 'R', 'R', 'R', 'R', 'R', 'R', 'R', 'R', 'R', 'R', 'R',\n",
       "       'R', 'R', 'R', 'R', 'R', 'R', 'R', 'R', 'R', 'R', 'R', 'R', 'R',\n",
       "       'R', 'R', 'R', 'R', 'R', 'R', 'R', 'R', 'R', 'R', 'R', 'R', 'R',\n",
       "       'R', 'R', 'R', 'R', 'R', 'R', 'R', 'R', 'R', 'R', 'R', 'R', 'R',\n",
       "       'R', 'R', 'R', 'R', 'R', 'R', 'M', 'M', 'M', 'M', 'M', 'M', 'M',\n",
       "       'M', 'M', 'M', 'M', 'M', 'M', 'M', 'M', 'M', 'M', 'M', 'M', 'M',\n",
       "       'M', 'M', 'M', 'M', 'M', 'M', 'M', 'M', 'M', 'M', 'M', 'M', 'M',\n",
       "       'M', 'M', 'M', 'M', 'M', 'M', 'M', 'M', 'M', 'M', 'M', 'M', 'M',\n",
       "       'M', 'M', 'M', 'M', 'M', 'M', 'M', 'M', 'M', 'M', 'M', 'M', 'M',\n",
       "       'M', 'M', 'M', 'M', 'M', 'M', 'M', 'M', 'M', 'M', 'M', 'M', 'M',\n",
       "       'M', 'M', 'M', 'M', 'M', 'M', 'M', 'M', 'M', 'M', 'M', 'M', 'M',\n",
       "       'M', 'M', 'M', 'M', 'M', 'M', 'M', 'M', 'M', 'M', 'M', 'M', 'M',\n",
       "       'M', 'M', 'M', 'M', 'M', 'M', 'M', 'M', 'M', 'M', 'M', 'M', 'M'],\n",
       "      dtype=object)"
      ]
     },
     "execution_count": 20,
     "metadata": {},
     "output_type": "execute_result"
    }
   ],
   "source": [
    "y"
   ]
  },
  {
   "cell_type": "code",
   "execution_count": 23,
   "id": "66a4625b",
   "metadata": {},
   "outputs": [],
   "source": [
    "y=pd.get_dummies(y,drop_first=True)"
   ]
  },
  {
   "cell_type": "code",
   "execution_count": 25,
   "id": "575f6609",
   "metadata": {},
   "outputs": [
    {
     "data": {
      "text/html": [
       "<div>\n",
       "<style scoped>\n",
       "    .dataframe tbody tr th:only-of-type {\n",
       "        vertical-align: middle;\n",
       "    }\n",
       "\n",
       "    .dataframe tbody tr th {\n",
       "        vertical-align: top;\n",
       "    }\n",
       "\n",
       "    .dataframe thead th {\n",
       "        text-align: right;\n",
       "    }\n",
       "</style>\n",
       "<table border=\"1\" class=\"dataframe\">\n",
       "  <thead>\n",
       "    <tr style=\"text-align: right;\">\n",
       "      <th></th>\n",
       "      <th>R</th>\n",
       "    </tr>\n",
       "  </thead>\n",
       "  <tbody>\n",
       "    <tr>\n",
       "      <th>0</th>\n",
       "      <td>1</td>\n",
       "    </tr>\n",
       "    <tr>\n",
       "      <th>1</th>\n",
       "      <td>1</td>\n",
       "    </tr>\n",
       "    <tr>\n",
       "      <th>2</th>\n",
       "      <td>1</td>\n",
       "    </tr>\n",
       "    <tr>\n",
       "      <th>3</th>\n",
       "      <td>1</td>\n",
       "    </tr>\n",
       "    <tr>\n",
       "      <th>4</th>\n",
       "      <td>1</td>\n",
       "    </tr>\n",
       "  </tbody>\n",
       "</table>\n",
       "</div>"
      ],
      "text/plain": [
       "   R\n",
       "0  1\n",
       "1  1\n",
       "2  1\n",
       "3  1\n",
       "4  1"
      ]
     },
     "execution_count": 25,
     "metadata": {},
     "output_type": "execute_result"
    }
   ],
   "source": [
    "y.head()"
   ]
  },
  {
   "cell_type": "code",
   "execution_count": 26,
   "id": "52bbf226",
   "metadata": {},
   "outputs": [
    {
     "data": {
      "text/plain": [
       "R\n",
       "0    111\n",
       "1     97\n",
       "dtype: int64"
      ]
     },
     "execution_count": 26,
     "metadata": {},
     "output_type": "execute_result"
    }
   ],
   "source": [
    "y.value_counts()"
   ]
  },
  {
   "cell_type": "code",
   "execution_count": 27,
   "id": "a0f88b46",
   "metadata": {},
   "outputs": [],
   "source": [
    "from sklearn.model_selection import train_test_split\n",
    "X_train,X_test,y_train,y_test= train_test_split(X,y,test_size=0.2,random_state=0)"
   ]
  },
  {
   "cell_type": "code",
   "execution_count": 29,
   "id": "e13e6d6c",
   "metadata": {},
   "outputs": [
    {
     "data": {
      "text/plain": [
       "(42, 60)"
      ]
     },
     "execution_count": 29,
     "metadata": {},
     "output_type": "execute_result"
    }
   ],
   "source": [
    "X_test.shape"
   ]
  },
  {
   "cell_type": "code",
   "execution_count": 30,
   "id": "af24aa4b",
   "metadata": {},
   "outputs": [
    {
     "data": {
      "text/plain": [
       "(166, 60)"
      ]
     },
     "execution_count": 30,
     "metadata": {},
     "output_type": "execute_result"
    }
   ],
   "source": [
    "X_train.shape\n"
   ]
  },
  {
   "cell_type": "code",
   "execution_count": 77,
   "id": "7fc5bbc5",
   "metadata": {},
   "outputs": [],
   "source": [
    "model= keras.Sequential([\n",
    "    keras.layers.Dense(60,input_shape=(60,),activation='relu'),\n",
    "    keras.layers.Dense(1000,activation='relu'),\n",
    "\n",
    "    keras.layers.Dense(1,activation='sigmoid')\n",
    "])"
   ]
  },
  {
   "cell_type": "code",
   "execution_count": 78,
   "id": "906b62eb",
   "metadata": {},
   "outputs": [],
   "source": [
    "model.compile(\n",
    "    optimizer='adam',\n",
    "    loss='binary_crossentropy',\n",
    "    metrics=['accuracy']\n",
    "\n",
    ")"
   ]
  },
  {
   "cell_type": "code",
   "execution_count": 79,
   "id": "cbc72874",
   "metadata": {},
   "outputs": [
    {
     "name": "stdout",
     "output_type": "stream",
     "text": [
      "Epoch 1/70\n",
      "WARNING:tensorflow:AutoGraph could not transform <function Model.make_train_function.<locals>.train_function at 0x2a332c160> and will run it as-is.\n",
      "Please report this to the TensorFlow team. When filing the bug, set the verbosity to 10 (on Linux, `export AUTOGRAPH_VERBOSITY=10`) and attach the full output.\n",
      "Cause: unsupported operand type(s) for -: 'NoneType' and 'int'\n",
      "To silence this warning, decorate the function with @tf.autograph.experimental.do_not_convert\n",
      "WARNING: AutoGraph could not transform <function Model.make_train_function.<locals>.train_function at 0x2a332c160> and will run it as-is.\n",
      "Please report this to the TensorFlow team. When filing the bug, set the verbosity to 10 (on Linux, `export AUTOGRAPH_VERBOSITY=10`) and attach the full output.\n",
      "Cause: unsupported operand type(s) for -: 'NoneType' and 'int'\n",
      "To silence this warning, decorate the function with @tf.autograph.experimental.do_not_convert\n",
      "6/6 [==============================] - 0s 709us/step - loss: 0.6903 - accuracy: 0.5340\n",
      "Epoch 2/70\n",
      "6/6 [==============================] - 0s 623us/step - loss: 0.6606 - accuracy: 0.5496\n",
      "Epoch 3/70\n",
      "6/6 [==============================] - 0s 807us/step - loss: 0.6307 - accuracy: 0.6953\n",
      "Epoch 4/70\n",
      "6/6 [==============================] - 0s 796us/step - loss: 0.6041 - accuracy: 0.6932\n",
      "Epoch 5/70\n",
      "6/6 [==============================] - 0s 878us/step - loss: 0.5903 - accuracy: 0.6368\n",
      "Epoch 6/70\n",
      "6/6 [==============================] - 0s 803us/step - loss: 0.5471 - accuracy: 0.7235\n",
      "Epoch 7/70\n",
      "6/6 [==============================] - 0s 763us/step - loss: 0.5189 - accuracy: 0.7977\n",
      "Epoch 8/70\n",
      "6/6 [==============================] - 0s 857us/step - loss: 0.5138 - accuracy: 0.7630\n",
      "Epoch 9/70\n",
      "6/6 [==============================] - 0s 955us/step - loss: 0.4761 - accuracy: 0.8174\n",
      "Epoch 10/70\n",
      "6/6 [==============================] - 0s 734us/step - loss: 0.4393 - accuracy: 0.8464\n",
      "Epoch 11/70\n",
      "6/6 [==============================] - 0s 822us/step - loss: 0.4198 - accuracy: 0.8151\n",
      "Epoch 12/70\n",
      "6/6 [==============================] - 0s 742us/step - loss: 0.4026 - accuracy: 0.7984\n",
      "Epoch 13/70\n",
      "6/6 [==============================] - 0s 694us/step - loss: 0.4057 - accuracy: 0.8148\n",
      "Epoch 14/70\n",
      "6/6 [==============================] - 0s 828us/step - loss: 0.3409 - accuracy: 0.8590\n",
      "Epoch 15/70\n",
      "6/6 [==============================] - 0s 1ms/step - loss: 0.3129 - accuracy: 0.8963\n",
      "Epoch 16/70\n",
      "6/6 [==============================] - 0s 767us/step - loss: 0.3578 - accuracy: 0.8183\n",
      "Epoch 17/70\n",
      "6/6 [==============================] - 0s 780us/step - loss: 0.3599 - accuracy: 0.8257\n",
      "Epoch 18/70\n",
      "6/6 [==============================] - 0s 854us/step - loss: 0.2966 - accuracy: 0.9006\n",
      "Epoch 19/70\n",
      "6/6 [==============================] - 0s 736us/step - loss: 0.3106 - accuracy: 0.8606\n",
      "Epoch 20/70\n",
      "6/6 [==============================] - 0s 617us/step - loss: 0.2966 - accuracy: 0.8882\n",
      "Epoch 21/70\n",
      "6/6 [==============================] - 0s 912us/step - loss: 0.2849 - accuracy: 0.8992\n",
      "Epoch 22/70\n",
      "6/6 [==============================] - 0s 712us/step - loss: 0.2505 - accuracy: 0.9178\n",
      "Epoch 23/70\n",
      "6/6 [==============================] - 0s 799us/step - loss: 0.2357 - accuracy: 0.9057\n",
      "Epoch 24/70\n",
      "6/6 [==============================] - 0s 773us/step - loss: 0.2709 - accuracy: 0.9009\n",
      "Epoch 25/70\n",
      "6/6 [==============================] - 0s 687us/step - loss: 0.2491 - accuracy: 0.9096\n",
      "Epoch 26/70\n",
      "6/6 [==============================] - 0s 743us/step - loss: 0.2661 - accuracy: 0.8653\n",
      "Epoch 27/70\n",
      "6/6 [==============================] - 0s 904us/step - loss: 0.2374 - accuracy: 0.8984\n",
      "Epoch 28/70\n",
      "6/6 [==============================] - 0s 741us/step - loss: 0.2113 - accuracy: 0.9266\n",
      "Epoch 29/70\n",
      "6/6 [==============================] - 0s 813us/step - loss: 0.2225 - accuracy: 0.9143\n",
      "Epoch 30/70\n",
      "6/6 [==============================] - 0s 842us/step - loss: 0.1920 - accuracy: 0.9281\n",
      "Epoch 31/70\n",
      "6/6 [==============================] - 0s 756us/step - loss: 0.1901 - accuracy: 0.9334\n",
      "Epoch 32/70\n",
      "6/6 [==============================] - 0s 774us/step - loss: 0.2673 - accuracy: 0.8638\n",
      "Epoch 33/70\n",
      "6/6 [==============================] - 0s 656us/step - loss: 0.2127 - accuracy: 0.9021\n",
      "Epoch 34/70\n",
      "6/6 [==============================] - 0s 702us/step - loss: 0.2103 - accuracy: 0.9197\n",
      "Epoch 35/70\n",
      "6/6 [==============================] - 0s 722us/step - loss: 0.2114 - accuracy: 0.9243\n",
      "Epoch 36/70\n",
      "6/6 [==============================] - 0s 640us/step - loss: 0.2628 - accuracy: 0.9067\n",
      "Epoch 37/70\n",
      "6/6 [==============================] - 0s 665us/step - loss: 0.1595 - accuracy: 0.9475\n",
      "Epoch 38/70\n",
      "6/6 [==============================] - 0s 771us/step - loss: 0.1767 - accuracy: 0.9352\n",
      "Epoch 39/70\n",
      "6/6 [==============================] - 0s 906us/step - loss: 0.1444 - accuracy: 0.9621\n",
      "Epoch 40/70\n",
      "6/6 [==============================] - 0s 719us/step - loss: 0.1647 - accuracy: 0.9381\n",
      "Epoch 41/70\n",
      "6/6 [==============================] - 0s 942us/step - loss: 0.1331 - accuracy: 0.9724\n",
      "Epoch 42/70\n",
      "6/6 [==============================] - 0s 904us/step - loss: 0.1242 - accuracy: 0.9770\n",
      "Epoch 43/70\n",
      "6/6 [==============================] - 0s 672us/step - loss: 0.1186 - accuracy: 0.9674\n",
      "Epoch 44/70\n",
      "6/6 [==============================] - 0s 955us/step - loss: 0.1330 - accuracy: 0.9476\n",
      "Epoch 45/70\n",
      "6/6 [==============================] - 0s 781us/step - loss: 0.1383 - accuracy: 0.9657\n",
      "Epoch 46/70\n",
      "6/6 [==============================] - 0s 782us/step - loss: 0.1087 - accuracy: 0.9705\n",
      "Epoch 47/70\n",
      "6/6 [==============================] - 0s 923us/step - loss: 0.1340 - accuracy: 0.9545\n",
      "Epoch 48/70\n",
      "6/6 [==============================] - 0s 775us/step - loss: 0.1117 - accuracy: 0.9702\n",
      "Epoch 49/70\n",
      "6/6 [==============================] - 0s 897us/step - loss: 0.1178 - accuracy: 0.9610\n",
      "Epoch 50/70\n",
      "6/6 [==============================] - 0s 907us/step - loss: 0.0937 - accuracy: 0.9763\n",
      "Epoch 51/70\n",
      "6/6 [==============================] - 0s 824us/step - loss: 0.1437 - accuracy: 0.9557\n",
      "Epoch 52/70\n",
      "6/6 [==============================] - 0s 928us/step - loss: 0.0903 - accuracy: 0.9769\n",
      "Epoch 53/70\n",
      "6/6 [==============================] - 0s 819us/step - loss: 0.0891 - accuracy: 0.9788\n",
      "Epoch 54/70\n",
      "6/6 [==============================] - 0s 725us/step - loss: 0.0980 - accuracy: 0.9732\n",
      "Epoch 55/70\n",
      "6/6 [==============================] - 0s 757us/step - loss: 0.0872 - accuracy: 0.9791\n",
      "Epoch 56/70\n",
      "6/6 [==============================] - 0s 668us/step - loss: 0.0956 - accuracy: 0.9683\n",
      "Epoch 57/70\n",
      "6/6 [==============================] - 0s 684us/step - loss: 0.0791 - accuracy: 0.9888\n",
      "Epoch 58/70\n",
      "6/6 [==============================] - 0s 777us/step - loss: 0.0796 - accuracy: 0.9806\n",
      "Epoch 59/70\n",
      "6/6 [==============================] - 0s 849us/step - loss: 0.0671 - accuracy: 0.9829\n",
      "Epoch 60/70\n",
      "6/6 [==============================] - 0s 823us/step - loss: 0.0668 - accuracy: 0.9882\n",
      "Epoch 61/70\n",
      "6/6 [==============================] - 0s 661us/step - loss: 0.0738 - accuracy: 0.9844\n",
      "Epoch 62/70\n",
      "6/6 [==============================] - 0s 910us/step - loss: 0.0674 - accuracy: 0.9844\n",
      "Epoch 63/70\n",
      "6/6 [==============================] - 0s 656us/step - loss: 0.0603 - accuracy: 0.9922\n",
      "Epoch 64/70\n",
      "6/6 [==============================] - 0s 871us/step - loss: 0.0540 - accuracy: 0.9937\n",
      "Epoch 65/70\n",
      "6/6 [==============================] - 0s 732us/step - loss: 0.0519 - accuracy: 0.9922\n",
      "Epoch 66/70\n",
      "6/6 [==============================] - 0s 696us/step - loss: 0.0571 - accuracy: 0.9844\n",
      "Epoch 67/70\n",
      "6/6 [==============================] - 0s 699us/step - loss: 0.0609 - accuracy: 0.9829\n",
      "Epoch 68/70\n",
      "6/6 [==============================] - 0s 725us/step - loss: 0.0451 - accuracy: 0.9945\n",
      "Epoch 69/70\n",
      "6/6 [==============================] - 0s 649us/step - loss: 0.0550 - accuracy: 1.0000\n",
      "Epoch 70/70\n",
      "6/6 [==============================] - 0s 638us/step - loss: 0.0582 - accuracy: 0.9899\n"
     ]
    },
    {
     "data": {
      "text/plain": [
       "<tensorflow.python.keras.callbacks.History at 0x2a33352e0>"
      ]
     },
     "execution_count": 79,
     "metadata": {},
     "output_type": "execute_result"
    }
   ],
   "source": [
    "model.fit(X_train,y_train,epochs=70\n",
    "         )"
   ]
  },
  {
   "cell_type": "code",
   "execution_count": 81,
   "id": "bf2a0fb1",
   "metadata": {},
   "outputs": [
    {
     "name": "stdout",
     "output_type": "stream",
     "text": [
      "2/2 [==============================] - 0s 2ms/step - loss: 0.6143 - accuracy: 0.8810\n"
     ]
    },
    {
     "data": {
      "text/plain": [
       "[0.614290714263916, 0.8809523582458496]"
      ]
     },
     "execution_count": 81,
     "metadata": {},
     "output_type": "execute_result"
    }
   ],
   "source": [
    "model.evaluate(X_test,y_test)"
   ]
  },
  {
   "cell_type": "code",
   "execution_count": 83,
   "id": "2a7963b2",
   "metadata": {},
   "outputs": [],
   "source": [
    "y_pred = model.predict(X_test)"
   ]
  },
  {
   "cell_type": "code",
   "execution_count": 87,
   "id": "6d46270d",
   "metadata": {},
   "outputs": [
    {
     "data": {
      "text/plain": [
       "array([[0.01047165],\n",
       "       [0.90882194],\n",
       "       [0.00947941]], dtype=float32)"
      ]
     },
     "execution_count": 87,
     "metadata": {},
     "output_type": "execute_result"
    }
   ],
   "source": [
    "y_pred[:3]\n"
   ]
  },
  {
   "cell_type": "code",
   "execution_count": 91,
   "id": "00710cf7",
   "metadata": {},
   "outputs": [
    {
     "data": {
      "text/plain": [
       "array([[0.],\n",
       "       [1.],\n",
       "       [0.]], dtype=float32)"
      ]
     },
     "execution_count": 91,
     "metadata": {},
     "output_type": "execute_result"
    }
   ],
   "source": [
    "y_pred=np.round(y_pred)\n",
    "y_pred[:3]"
   ]
  },
  {
   "cell_type": "code",
   "execution_count": 95,
   "id": "4e37193e",
   "metadata": {},
   "outputs": [
    {
     "data": {
      "text/plain": [
       "array([[1],\n",
       "       [1],\n",
       "       [1]], dtype=uint8)"
      ]
     },
     "execution_count": 95,
     "metadata": {},
     "output_type": "execute_result"
    }
   ],
   "source": [
    "y_test[:3].values"
   ]
  },
  {
   "cell_type": "code",
   "execution_count": 92,
   "id": "56a6a79e",
   "metadata": {},
   "outputs": [
    {
     "name": "stdout",
     "output_type": "stream",
     "text": [
      "              precision    recall  f1-score   support\n",
      "\n",
      "           0       0.83      0.95      0.89        21\n",
      "           1       0.94      0.81      0.87        21\n",
      "\n",
      "    accuracy                           0.88        42\n",
      "   macro avg       0.89      0.88      0.88        42\n",
      "weighted avg       0.89      0.88      0.88        42\n",
      "\n"
     ]
    }
   ],
   "source": [
    "from sklearn.metrics import confusion_matrix, classification_report\n",
    "print(classification_report(y_test,y_pred))"
   ]
  },
  {
   "cell_type": "markdown",
   "id": "c7a23e87",
   "metadata": {},
   "source": [
    "\n",
    "## Dropout Layer"
   ]
  },
  {
   "cell_type": "code",
   "execution_count": 120,
   "id": "2488948b",
   "metadata": {},
   "outputs": [],
   "source": [
    "model= keras.Sequential([\n",
    "    keras.layers.Dense(60,input_shape=(60,),activation='relu'),\n",
    "   \n",
    "    keras.layers.Dense(100,activation='relu'),\n",
    "       keras.layers.Dropout(0.2),\n",
    "    keras.layers.Dense(100,activation='relu'),\n",
    "    keras.layers.Dense(1,activation='sigmoid')\n",
    "])"
   ]
  },
  {
   "cell_type": "code",
   "execution_count": 121,
   "id": "40370d3a",
   "metadata": {},
   "outputs": [
    {
     "name": "stdout",
     "output_type": "stream",
     "text": [
      "Model: \"sequential_15\"\n",
      "_________________________________________________________________\n",
      "Layer (type)                 Output Shape              Param #   \n",
      "=================================================================\n",
      "dense_49 (Dense)             (None, 60)                3660      \n",
      "_________________________________________________________________\n",
      "dense_50 (Dense)             (None, 100)               6100      \n",
      "_________________________________________________________________\n",
      "dropout_6 (Dropout)          (None, 100)               0         \n",
      "_________________________________________________________________\n",
      "dense_51 (Dense)             (None, 100)               10100     \n",
      "_________________________________________________________________\n",
      "dense_52 (Dense)             (None, 1)                 101       \n",
      "=================================================================\n",
      "Total params: 19,961\n",
      "Trainable params: 19,961\n",
      "Non-trainable params: 0\n",
      "_________________________________________________________________\n"
     ]
    }
   ],
   "source": [
    "model.summary()"
   ]
  },
  {
   "cell_type": "code",
   "execution_count": 122,
   "id": "0b67a037",
   "metadata": {},
   "outputs": [],
   "source": [
    "\n",
    "model.compile(\n",
    "    optimizer='adam',\n",
    "    loss='binary_crossentropy',\n",
    "    metrics=['accuracy']\n",
    "\n",
    ")"
   ]
  },
  {
   "cell_type": "code",
   "execution_count": 123,
   "id": "ced56873",
   "metadata": {},
   "outputs": [
    {
     "name": "stdout",
     "output_type": "stream",
     "text": [
      "Epoch 1/70\n",
      "WARNING:tensorflow:AutoGraph could not transform <function Model.make_train_function.<locals>.train_function at 0x2a9610b80> and will run it as-is.\n",
      "Please report this to the TensorFlow team. When filing the bug, set the verbosity to 10 (on Linux, `export AUTOGRAPH_VERBOSITY=10`) and attach the full output.\n",
      "Cause: unsupported operand type(s) for -: 'NoneType' and 'int'\n",
      "To silence this warning, decorate the function with @tf.autograph.experimental.do_not_convert\n",
      "WARNING: AutoGraph could not transform <function Model.make_train_function.<locals>.train_function at 0x2a9610b80> and will run it as-is.\n",
      "Please report this to the TensorFlow team. When filing the bug, set the verbosity to 10 (on Linux, `export AUTOGRAPH_VERBOSITY=10`) and attach the full output.\n",
      "Cause: unsupported operand type(s) for -: 'NoneType' and 'int'\n",
      "To silence this warning, decorate the function with @tf.autograph.experimental.do_not_convert\n",
      "6/6 [==============================] - 0s 660us/step - loss: 0.6811 - accuracy: 0.5740\n",
      "Epoch 2/70\n",
      "6/6 [==============================] - 0s 547us/step - loss: 0.6668 - accuracy: 0.6074\n",
      "Epoch 3/70\n",
      "6/6 [==============================] - 0s 581us/step - loss: 0.6644 - accuracy: 0.6615\n",
      "Epoch 4/70\n",
      "6/6 [==============================] - 0s 897us/step - loss: 0.6462 - accuracy: 0.6795\n",
      "Epoch 5/70\n",
      "6/6 [==============================] - 0s 717us/step - loss: 0.6398 - accuracy: 0.7136\n",
      "Epoch 6/70\n",
      "6/6 [==============================] - 0s 616us/step - loss: 0.6096 - accuracy: 0.7252\n",
      "Epoch 7/70\n",
      "6/6 [==============================] - 0s 655us/step - loss: 0.6016 - accuracy: 0.7156\n",
      "Epoch 8/70\n",
      "6/6 [==============================] - 0s 854us/step - loss: 0.5984 - accuracy: 0.6644\n",
      "Epoch 9/70\n",
      "6/6 [==============================] - 0s 643us/step - loss: 0.5374 - accuracy: 0.7548\n",
      "Epoch 10/70\n",
      "6/6 [==============================] - 0s 752us/step - loss: 0.5168 - accuracy: 0.7634\n",
      "Epoch 11/70\n",
      "6/6 [==============================] - 0s 815us/step - loss: 0.4989 - accuracy: 0.7783\n",
      "Epoch 12/70\n",
      "6/6 [==============================] - 0s 642us/step - loss: 0.5067 - accuracy: 0.7250\n",
      "Epoch 13/70\n",
      "6/6 [==============================] - 0s 667us/step - loss: 0.4477 - accuracy: 0.8411\n",
      "Epoch 14/70\n",
      "6/6 [==============================] - 0s 809us/step - loss: 0.4166 - accuracy: 0.8348\n",
      "Epoch 15/70\n",
      "6/6 [==============================] - 0s 646us/step - loss: 0.4084 - accuracy: 0.8474\n",
      "Epoch 16/70\n",
      "6/6 [==============================] - 0s 752us/step - loss: 0.3806 - accuracy: 0.8040\n",
      "Epoch 17/70\n",
      "6/6 [==============================] - 0s 904us/step - loss: 0.3872 - accuracy: 0.8330\n",
      "Epoch 18/70\n",
      "6/6 [==============================] - 0s 631us/step - loss: 0.3454 - accuracy: 0.8546\n",
      "Epoch 19/70\n",
      "6/6 [==============================] - 0s 595us/step - loss: 0.3626 - accuracy: 0.8341\n",
      "Epoch 20/70\n",
      "6/6 [==============================] - 0s 1ms/step - loss: 0.3421 - accuracy: 0.8488\n",
      "Epoch 21/70\n",
      "6/6 [==============================] - 0s 572us/step - loss: 0.4065 - accuracy: 0.8467\n",
      "Epoch 22/70\n",
      "6/6 [==============================] - 0s 672us/step - loss: 0.3354 - accuracy: 0.8676\n",
      "Epoch 23/70\n",
      "6/6 [==============================] - 0s 905us/step - loss: 0.3155 - accuracy: 0.8688\n",
      "Epoch 24/70\n",
      "6/6 [==============================] - 0s 634us/step - loss: 0.3673 - accuracy: 0.8420\n",
      "Epoch 25/70\n",
      "6/6 [==============================] - 0s 622us/step - loss: 0.3679 - accuracy: 0.8254\n",
      "Epoch 26/70\n",
      "6/6 [==============================] - 0s 1ms/step - loss: 0.3069 - accuracy: 0.8865\n",
      "Epoch 27/70\n",
      "6/6 [==============================] - 0s 780us/step - loss: 0.3131 - accuracy: 0.8707\n",
      "Epoch 28/70\n",
      "6/6 [==============================] - 0s 610us/step - loss: 0.3459 - accuracy: 0.8176\n",
      "Epoch 29/70\n",
      "6/6 [==============================] - 0s 782us/step - loss: 0.3107 - accuracy: 0.8875\n",
      "Epoch 30/70\n",
      "6/6 [==============================] - 0s 874us/step - loss: 0.3105 - accuracy: 0.8495\n",
      "Epoch 31/70\n",
      "6/6 [==============================] - 0s 590us/step - loss: 0.3133 - accuracy: 0.8595\n",
      "Epoch 32/70\n",
      "6/6 [==============================] - 0s 841us/step - loss: 0.3090 - accuracy: 0.8514\n",
      "Epoch 33/70\n",
      "6/6 [==============================] - 0s 793us/step - loss: 0.2755 - accuracy: 0.9124\n",
      "Epoch 34/70\n",
      "6/6 [==============================] - 0s 753us/step - loss: 0.2414 - accuracy: 0.9206\n",
      "Epoch 35/70\n",
      "6/6 [==============================] - 0s 898us/step - loss: 0.2374 - accuracy: 0.9072\n",
      "Epoch 36/70\n",
      "6/6 [==============================] - 0s 762us/step - loss: 0.2218 - accuracy: 0.9381\n",
      "Epoch 37/70\n",
      "6/6 [==============================] - 0s 746us/step - loss: 0.2699 - accuracy: 0.8838\n",
      "Epoch 38/70\n",
      "6/6 [==============================] - 0s 819us/step - loss: 0.2018 - accuracy: 0.9420\n",
      "Epoch 39/70\n",
      "6/6 [==============================] - 0s 662us/step - loss: 0.2407 - accuracy: 0.8960\n",
      "Epoch 40/70\n",
      "6/6 [==============================] - 0s 552us/step - loss: 0.1817 - accuracy: 0.9118\n",
      "Epoch 41/70\n",
      "6/6 [==============================] - 0s 818us/step - loss: 0.1554 - accuracy: 0.9520\n",
      "Epoch 42/70\n",
      "6/6 [==============================] - 0s 730us/step - loss: 0.2359 - accuracy: 0.8778\n",
      "Epoch 43/70\n",
      "6/6 [==============================] - 0s 529us/step - loss: 0.1621 - accuracy: 0.9463\n",
      "Epoch 44/70\n",
      "6/6 [==============================] - 0s 641us/step - loss: 0.1898 - accuracy: 0.8927\n",
      "Epoch 45/70\n",
      "6/6 [==============================] - 0s 673us/step - loss: 0.1519 - accuracy: 0.9378\n",
      "Epoch 46/70\n",
      "6/6 [==============================] - 0s 564us/step - loss: 0.1438 - accuracy: 0.9579\n",
      "Epoch 47/70\n",
      "6/6 [==============================] - 0s 585us/step - loss: 0.1431 - accuracy: 0.9443\n",
      "Epoch 48/70\n",
      "6/6 [==============================] - 0s 867us/step - loss: 0.1298 - accuracy: 0.9299\n",
      "Epoch 49/70\n",
      "6/6 [==============================] - 0s 763us/step - loss: 0.1739 - accuracy: 0.9385\n",
      "Epoch 50/70\n",
      "6/6 [==============================] - 0s 727us/step - loss: 0.1670 - accuracy: 0.9560\n",
      "Epoch 51/70\n",
      "6/6 [==============================] - 0s 660us/step - loss: 0.1094 - accuracy: 0.9574\n",
      "Epoch 52/70\n",
      "6/6 [==============================] - 0s 617us/step - loss: 0.1327 - accuracy: 0.9454\n",
      "Epoch 53/70\n",
      "6/6 [==============================] - 0s 639us/step - loss: 0.1200 - accuracy: 0.9714\n",
      "Epoch 54/70\n",
      "6/6 [==============================] - 0s 622us/step - loss: 0.1076 - accuracy: 0.9804\n",
      "Epoch 55/70\n",
      "6/6 [==============================] - 0s 544us/step - loss: 0.0931 - accuracy: 0.9731\n",
      "Epoch 56/70\n",
      "6/6 [==============================] - 0s 498us/step - loss: 0.1094 - accuracy: 0.9688\n",
      "Epoch 57/70\n",
      "6/6 [==============================] - 0s 601us/step - loss: 0.0893 - accuracy: 0.9702\n",
      "Epoch 58/70\n",
      "6/6 [==============================] - 0s 739us/step - loss: 0.0759 - accuracy: 0.9884\n",
      "Epoch 59/70\n",
      "6/6 [==============================] - 0s 638us/step - loss: 0.0842 - accuracy: 0.9776\n",
      "Epoch 60/70\n",
      "6/6 [==============================] - 0s 620us/step - loss: 0.0814 - accuracy: 0.9810\n",
      "Epoch 61/70\n",
      "6/6 [==============================] - 0s 645us/step - loss: 0.0736 - accuracy: 0.9869\n",
      "Epoch 62/70\n",
      "6/6 [==============================] - 0s 656us/step - loss: 0.0431 - accuracy: 0.9963\n",
      "Epoch 63/70\n",
      "6/6 [==============================] - 0s 633us/step - loss: 0.0758 - accuracy: 0.9776\n",
      "Epoch 64/70\n",
      "6/6 [==============================] - 0s 548us/step - loss: 0.0690 - accuracy: 0.9896\n",
      "Epoch 65/70\n",
      "6/6 [==============================] - 0s 700us/step - loss: 0.0601 - accuracy: 0.9843\n",
      "Epoch 66/70\n",
      "6/6 [==============================] - 0s 530us/step - loss: 0.0601 - accuracy: 0.9814\n",
      "Epoch 67/70\n",
      "6/6 [==============================] - 0s 621us/step - loss: 0.0626 - accuracy: 0.9762\n",
      "Epoch 68/70\n",
      "6/6 [==============================] - 0s 617us/step - loss: 0.0695 - accuracy: 0.9826\n",
      "Epoch 69/70\n",
      "6/6 [==============================] - 0s 543us/step - loss: 0.0746 - accuracy: 0.9750\n",
      "Epoch 70/70\n",
      "6/6 [==============================] - 0s 593us/step - loss: 0.0492 - accuracy: 0.9769\n"
     ]
    },
    {
     "data": {
      "text/plain": [
       "<tensorflow.python.keras.callbacks.History at 0x2aa0ae3a0>"
      ]
     },
     "execution_count": 123,
     "metadata": {},
     "output_type": "execute_result"
    }
   ],
   "source": [
    "model.fit(X_train,y_train,epochs=70\n",
    "         )"
   ]
  },
  {
   "cell_type": "code",
   "execution_count": 125,
   "id": "cd59d6fb",
   "metadata": {},
   "outputs": [
    {
     "name": "stdout",
     "output_type": "stream",
     "text": [
      "2/2 [==============================] - 0s 1ms/step - loss: 2.0411 - accuracy: 0.5476\n"
     ]
    },
    {
     "data": {
      "text/plain": [
       "[2.041119337081909, 0.5476190447807312]"
      ]
     },
     "execution_count": 125,
     "metadata": {},
     "output_type": "execute_result"
    }
   ],
   "source": [
    "model.evaluate(X_test,y_test)"
   ]
  },
  {
   "cell_type": "code",
   "execution_count": 126,
   "id": "affeeafb",
   "metadata": {},
   "outputs": [],
   "source": [
    "#supposed to increase test metrics"
   ]
  }
 ],
 "metadata": {
  "kernelspec": {
   "display_name": "Python 3 (ipykernel)",
   "language": "python",
   "name": "python3"
  },
  "language_info": {
   "codemirror_mode": {
    "name": "ipython",
    "version": 3
   },
   "file_extension": ".py",
   "mimetype": "text/x-python",
   "name": "python",
   "nbconvert_exporter": "python",
   "pygments_lexer": "ipython3",
   "version": "3.8.13"
  }
 },
 "nbformat": 4,
 "nbformat_minor": 5
}
